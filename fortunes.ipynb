{
 "cells": [
  {
   "cell_type": "code",
   "execution_count": 2,
   "metadata": {},
   "outputs": [
    {
     "name": "stdout",
     "output_type": "stream",
     "text": [
      "Enter file name : fortunes\n",
      "Want another fortune : yes\n",
      "Someone is thinking of you.\n",
      "Want another fortune : hii\n",
      "Wrong entry. Type yes or no.\n",
      "Want another fortune : yes\n",
      "Blow mom/dad a kiss\n",
      "Want another fortune : no\n",
      "Exit...\n"
     ]
    }
   ],
   "source": [
    "import pandas as pd\n",
    "import random\n",
    "def load_fortunes(name):\n",
    "    path = r'C:\\Users\\User 8\\Desktop'\n",
    "    fortunes = pd.read_csv(path+'/'+name+'.txt', header = None)[0]\n",
    "    return fortunes\n",
    "    \n",
    "def main():\n",
    "    name = input(\"Enter file name : \")\n",
    "    fortunes_list = load_fortunes(name)\n",
    "    display_fortunes(fortunes_list)\n",
    "\n",
    "def display_fortunes(fortunes_list):\n",
    "    a = 'yes'\n",
    "    while(a[:3].upper()=='YES'):\n",
    "        a = input(\"Want another fortune : \")\n",
    "        if a[:2].upper() == 'NO':\n",
    "            break\n",
    "        elif a[:3].upper() !='YES':\n",
    "            print('Wrong entry. Type yes or no.')\n",
    "            a = 'yes'\n",
    "            continue\n",
    "        i = random.randint(0,len(fortunes_list)-1)\n",
    "        print(fortunes_list[i])\n",
    "    print('Exit...')\n",
    "    \n",
    "if __name__ == \"__main__\":\n",
    "    main()"
   ]
  }
 ],
 "metadata": {
  "kernelspec": {
   "display_name": "Python 3",
   "language": "python",
   "name": "python3"
  },
  "language_info": {
   "codemirror_mode": {
    "name": "ipython",
    "version": 3
   },
   "file_extension": ".py",
   "mimetype": "text/x-python",
   "name": "python",
   "nbconvert_exporter": "python",
   "pygments_lexer": "ipython3",
   "version": "3.7.4"
  }
 },
 "nbformat": 4,
 "nbformat_minor": 2
}

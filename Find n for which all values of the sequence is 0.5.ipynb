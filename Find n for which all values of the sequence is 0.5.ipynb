{
 "cells": [
  {
   "cell_type": "code",
   "execution_count": 2,
   "metadata": {},
   "outputs": [],
   "source": [
    "import numpy as np\n",
    "import math"
   ]
  },
  {
   "cell_type": "code",
   "execution_count": 4,
   "metadata": {},
   "outputs": [
    {
     "name": "stdout",
     "output_type": "stream",
     "text": [
      "[0.1, 0.2, 0.3, 0.4, 0.5, 0.6, 0.7, 0.8, 0.9] 1\n",
      "[0.2, 0.3, 0.4, 0.5, 0.5, 0.5, 0.4, 0.3, 0.2] 2\n",
      "[0.2, 0.4, 0.5, 0.5, 0.5, 0.5, 0.5, 0.6, 0.8] 3\n",
      "[0.3, 0.4, 0.5, 0.5, 0.5, 0.5, 0.5, 0.4, 0.3] 4\n",
      "[0.3, 0.5, 0.5, 0.5, 0.5, 0.5, 0.5, 0.5, 0.7] 5\n",
      "[0.4, 0.5, 0.5, 0.5, 0.5, 0.5, 0.5, 0.5, 0.4] 6\n",
      "[0.4, 0.5, 0.5, 0.5, 0.5, 0.5, 0.5, 0.5, 0.6] 7\n",
      "[0.4, 0.5, 0.5, 0.5, 0.5, 0.5, 0.5, 0.5, 0.4] 8\n",
      "[0.4, 0.5, 0.5, 0.5, 0.5, 0.5, 0.5, 0.5, 0.6] 9\n",
      "[0.4, 0.5, 0.5, 0.5, 0.5, 0.5, 0.5, 0.5, 0.4] 10\n",
      "[0.5, 0.5, 0.5, 0.5, 0.5, 0.5, 0.5, 0.5, 0.5] 11\n"
     ]
    }
   ],
   "source": [
    "x=[0.1,0.2,0.3,0.4,0.5,0.6,0.7,0.8,0.9]\n",
    "y = [0.5,0.5,0.5,0.5,0.5,0.5,0.5,0.5,0.5]\n",
    "n=0\n",
    "result=[]\n",
    "f=True\n",
    "while f==True:\n",
    "    n=n+1\n",
    "    for i in x:\n",
    "        res=(0.5-0.5*math.pow((1-2*i),n))\n",
    "        res = round(res,1)\n",
    "        result.append(res)    \n",
    "    f=False\n",
    "    if result!=y :\n",
    "        f = True\n",
    "        print(result,n)\n",
    "        result = []\n",
    "    else:\n",
    "        print(result,n)"
   ]
  },
  {
   "cell_type": "code",
   "execution_count": 9,
   "metadata": {},
   "outputs": [
    {
     "name": "stdout",
     "output_type": "stream",
     "text": [
      "[0.1, 0.2, 0.3, 0.4, 0.5, 0.6, 0.7, 0.8, 0.9]\n"
     ]
    }
   ],
   "source": [
    "n=1\n",
    "result=[]\n",
    "for i in x:\n",
    "    res=(0.5-0.5*math.pow((1-2*i),n))\n",
    "    res = round(res,1)\n",
    "    result.append(res)  \n",
    "print(result)"
   ]
  }
 ],
 "metadata": {
  "kernelspec": {
   "display_name": "Python 3",
   "language": "python",
   "name": "python3"
  },
  "language_info": {
   "codemirror_mode": {
    "name": "ipython",
    "version": 3
   },
   "file_extension": ".py",
   "mimetype": "text/x-python",
   "name": "python",
   "nbconvert_exporter": "python",
   "pygments_lexer": "ipython3",
   "version": "3.7.6"
  }
 },
 "nbformat": 4,
 "nbformat_minor": 4
}

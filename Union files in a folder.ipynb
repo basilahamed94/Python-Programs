{
 "cells": [
  {
   "cell_type": "code",
   "execution_count": 1,
   "metadata": {},
   "outputs": [],
   "source": [
    "import pandas as pd\n",
    "import os"
   ]
  },
  {
   "cell_type": "code",
   "execution_count": 2,
   "metadata": {
    "scrolled": false
   },
   "outputs": [
    {
     "name": "stdout",
     "output_type": "stream",
     "text": [
      "Q10_PAYMENT_GROUPS_AN.csv 17\n",
      "Q10_PAYMENT_GROUPS_AP.csv 26940\n",
      "Q10_PAYMENT_GROUPS_AR.csv 46\n"
     ]
    },
    {
     "name": "stderr",
     "output_type": "stream",
     "text": [
      "D:\\anac\\lib\\site-packages\\pandas\\core\\frame.py:7123: FutureWarning: Sorting because non-concatenation axis is not aligned. A future version\n",
      "of pandas will change to not sort by default.\n",
      "\n",
      "To accept the future behavior, pass 'sort=False'.\n",
      "\n",
      "To retain the current behavior and silence the warning, pass 'sort=True'.\n",
      "\n",
      "  sort=sort,\n"
     ]
    },
    {
     "name": "stdout",
     "output_type": "stream",
     "text": [
      "Q10_PAYMENT_GROUPS_AS.csv 7825\n"
     ]
    },
    {
     "name": "stderr",
     "output_type": "stream",
     "text": [
      "D:\\anac\\lib\\site-packages\\IPython\\core\\interactiveshell.py:3058: DtypeWarning: Columns (14) have mixed types. Specify dtype option on import or set low_memory=False.\n",
      "  interactivity=interactivity, compiler=compiler, result=result)\n"
     ]
    },
    {
     "name": "stdout",
     "output_type": "stream",
     "text": [
      "Q10_PAYMENT_GROUPS_BH.csv 237512\n",
      "Q10_PAYMENT_GROUPS_CG.csv 6947\n",
      "Q10_PAYMENT_GROUPS_CH.csv 98\n",
      "Q10_PAYMENT_GROUPS_DL.csv 5617\n",
      "Q10_PAYMENT_GROUPS_DN.csv 9104\n",
      "Q10_PAYMENT_GROUPS_GJ.csv 164955\n",
      "Q10_PAYMENT_GROUPS_GO.csv 107\n",
      "Q10_PAYMENT_GROUPS_HP.csv 751\n",
      "Q10_PAYMENT_GROUPS_HR.csv 10160\n",
      "Q10_PAYMENT_GROUPS_JH.csv 11454\n",
      "Q10_PAYMENT_GROUPS_JK.csv 6871\n",
      "Q10_PAYMENT_GROUPS_KN.csv 97116\n",
      "Q10_PAYMENT_GROUPS_KR.csv 134631\n",
      "Q10_PAYMENT_GROUPS_LA.csv 36\n",
      "Q10_PAYMENT_GROUPS_LK.csv 137\n",
      "Q10_PAYMENT_GROUPS_MG.csv 412\n"
     ]
    },
    {
     "name": "stderr",
     "output_type": "stream",
     "text": [
      "D:\\anac\\lib\\site-packages\\IPython\\core\\interactiveshell.py:3058: DtypeWarning: Columns (9) have mixed types. Specify dtype option on import or set low_memory=False.\n",
      "  interactivity=interactivity, compiler=compiler, result=result)\n"
     ]
    },
    {
     "name": "stdout",
     "output_type": "stream",
     "text": [
      "Q10_PAYMENT_GROUPS_MH.csv 163694\n",
      "Q10_PAYMENT_GROUPS_MN.csv 234\n",
      "Q10_PAYMENT_GROUPS_MP.csv 140666\n",
      "Q10_PAYMENT_GROUPS_MZ.csv 26\n",
      "Q10_PAYMENT_GROUPS_NG.csv 667\n",
      "Q10_PAYMENT_GROUPS_OR.csv 197974\n",
      "Q10_PAYMENT_GROUPS_PJ.csv 7970\n",
      "Q10_PAYMENT_GROUPS_PO.csv 1229\n",
      "Q10_PAYMENT_GROUPS_RJ.csv 17517\n",
      "Q10_PAYMENT_GROUPS_SK.csv 20\n",
      "Q10_PAYMENT_GROUPS_TG.csv 76690\n",
      "Q10_PAYMENT_GROUPS_TN.csv 222345\n",
      "Q10_PAYMENT_GROUPS_TR.csv 365\n",
      "Q10_PAYMENT_GROUPS_UP.csv 751675\n",
      "Q10_PAYMENT_GROUPS_UT.csv 4885\n",
      "Q10_PAYMENT_GROUPS_WB.csv 3830\n",
      "2310523\n"
     ]
    }
   ],
   "source": [
    "path = 'D:/NSAP Query Results/Query 10_PAYMENT_FINAL_GROUPS/'\n",
    "files = os.listdir(path)\n",
    "x = pd.read_csv(path+files[0])\n",
    "x.columns = [w.replace('_'+files[0][-6:-4].lower(), '') for w in x.columns]\n",
    "print(files[0],len(x))\n",
    "x['Path'] = path+files[0]\n",
    "for i in files[1:]:\n",
    "    #print(pi)\n",
    "    y = pd.read_csv(path+i)\n",
    "    y.columns = [w.replace('_'+i[-6:-4].lower(), '') for w in y.columns]\n",
    "    y['Path'] = path+i\n",
    "    print(i,len(y))\n",
    "    x = x.append(y)\n",
    "x.to_csv('D:/NSAP Query Results/All_India/q10_dups_groups.csv',index=False)\n",
    "print(len(x))"
   ]
  },
  {
   "cell_type": "code",
   "execution_count": 7,
   "metadata": {},
   "outputs": [
    {
     "data": {
      "text/plain": [
       "Index(['Path', 'applicant_name', 'application_date', 'application_no',\n",
       "       'bpl_family_id', 'bpl_member_id', 'category_code', 'creation_date',\n",
       "       'date_of_birth', 'district_code', 'father_husband_name', 'gender',\n",
       "       'gram_panchayat_ward_code', 'habitation_code', 'name_as_per_account',\n",
       "       'name_per_account', 'npci_status', 'pension_effective_from_date',\n",
       "       'sanction_auth', 'sanction_date', 'sanction_order_no', 'sanctionder_no',\n",
       "       'scheme_code', 'scheme_code-2', 'scheme_code.1', 'state_code', 'status',\n",
       "       'status_of_beneficiary', 'sub_district_municipal_area_code',\n",
       "       'sub_district_municipalea_code', 'ver_lev1_date', 'ver_lev1_id',\n",
       "       'ver_lev2_date', 'ver_lev2_id', 'ver_lev3_date', 'ver_lev3_id',\n",
       "       'village_code'],\n",
       "      dtype='object')"
      ]
     },
     "execution_count": 7,
     "metadata": {},
     "output_type": "execute_result"
    }
   ],
   "source": [
    "x.columns"
   ]
  },
  {
   "cell_type": "code",
   "execution_count": null,
   "metadata": {},
   "outputs": [],
   "source": [
    "len(list(set(x.Path)))"
   ]
  }
 ],
 "metadata": {
  "kernelspec": {
   "display_name": "Python 3",
   "language": "python",
   "name": "python3"
  },
  "language_info": {
   "codemirror_mode": {
    "name": "ipython",
    "version": 3
   },
   "file_extension": ".py",
   "mimetype": "text/x-python",
   "name": "python",
   "nbconvert_exporter": "python",
   "pygments_lexer": "ipython3",
   "version": "3.7.4"
  }
 },
 "nbformat": 4,
 "nbformat_minor": 2
}

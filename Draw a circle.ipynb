{
 "cells": [
  {
   "cell_type": "code",
   "execution_count": 2,
   "metadata": {},
   "outputs": [],
   "source": [
    "# import package\n",
    "import turtle\n",
    "\n"
   ]
  },
  {
   "cell_type": "code",
   "execution_count": 3,
   "metadata": {},
   "outputs": [],
   "source": [
    "# create a Screen Object\n",
    "screen = turtle.Screen()\n",
    "\n",
    "# Screen configuration\n",
    "screen.setup(500, 500)\n",
    "\n",
    "# Make turtle Object\n",
    "clk = turtle.Turtle()\n",
    "\n",
    "# set a Turtle object color\n",
    "clk.color('Green')\n",
    "\n",
    "# set a Turtle object width\n",
    "clk.width(4)\n",
    "\n",
    "\n",
    "def draw_hour_hand():\n",
    "    clk.penup()\n",
    "    clk.home()\n",
    "    clk.right(90)\n",
    "    clk.pendown()\n",
    "    clk.forward(100)\n",
    "\n",
    "\n"
   ]
  },
  {
   "cell_type": "code",
   "execution_count": 4,
   "metadata": {},
   "outputs": [],
   "source": [
    "# value for numbers in clock\n",
    "val = 0\n",
    "\n",
    "# loop for print clock numbers\n",
    "for i in range(12):\n",
    "    # increment value by 1\n",
    "    val += 1\n",
    "\n",
    "    # move turtle in air\n",
    "    clk.penup()\n",
    "\n",
    "    # for circular motion\n",
    "    clk.setheading(-30 * (i + 3) + 75)\n",
    "\n",
    "    # move forward for space\n",
    "    clk.forward(22)\n",
    "\n",
    "    # move turtle to surface\n",
    "    clk.pendown()\n",
    "\n",
    "    # move forward for dash line\n",
    "    clk.forward(15)\n",
    "\n",
    "    # move turtle in air\n",
    "    clk.penup()\n",
    "\n",
    "    # move forward for space\n",
    "    clk.forward(20)\n",
    "\n",
    "    # write clock integer\n",
    "    clk.write(str(val), align=\"center\",\n",
    "              font=(\"Arial\",\n",
    "                    12, \"normal\"))\n",
    "\n"
   ]
  },
  {
   "cell_type": "code",
   "execution_count": null,
   "metadata": {},
   "outputs": [],
   "source": [
    "# colored centre by setting position\n",
    "# sets position of turtle at given position\n",
    "clk.setpos(2, -112)\n",
    "clk.pendown()\n",
    "clk.width(2)\n",
    "\n",
    "# To fill color green\n",
    "clk.fillcolor('Green')\n",
    "\n",
    "# start filling\n",
    "clk.begin_fill()\n",
    "\n",
    "# make a circle of radius 5\n",
    "clk.circle(5)\n",
    "\n",
    "# end filling\n",
    "clk.end_fill()\n",
    "\n",
    "clk.penup()\n",
    "draw_hour_hand()\n",
    "clk.setpos(-20, -64)\n",
    "clk.pendown()\n",
    "clk.penup()\n",
    "\n",
    "# Write Clock by setting position\n",
    "clk.setpos(-30, -170)\n",
    "clk.pendown()\n",
    "clk.write(' GfG Clock', font=(\"Arial\", 14,\n",
    "                              \"normal\"))\n",
    "clk.hideturtle()\n",
    "turtle.done()"
   ]
  }
 ],
 "metadata": {
  "kernelspec": {
   "display_name": "Python 3",
   "language": "python",
   "name": "python3"
  },
  "language_info": {
   "codemirror_mode": {
    "name": "ipython",
    "version": 3
   },
   "file_extension": ".py",
   "mimetype": "text/x-python",
   "name": "python",
   "nbconvert_exporter": "python",
   "pygments_lexer": "ipython3",
   "version": "3.7.4"
  }
 },
 "nbformat": 4,
 "nbformat_minor": 2
}

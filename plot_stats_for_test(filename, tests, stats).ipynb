{
 "cells": [
  {
   "cell_type": "code",
   "execution_count": 217,
   "metadata": {},
   "outputs": [],
   "source": [
    "import numpy as np\n",
    "import matplotlib.pyplot as plt\n",
    "\n",
    "\n",
    "def plot_stats_for_test(filename, tests, stats):\n",
    "    # Using readlines()\n",
    "\n",
    "    df = pd.read_csv(path+filename)\n",
    "    \n",
    "    mkr_dict = {'mean': 's', 'median': 'o', 'std_dev': '*'}\n",
    "    tes_col = {1: 'b', 2: 'r',3: 'k'}\n",
    "    tim_col = {1:'y', 2: 'c',3: 'g'}\n",
    "    \n",
    "    labels = []\n",
    "    values = []\n",
    "    colors = []\n",
    "    markers = []\n",
    "    \n",
    "    for s in stats:\n",
    "        tes = ['Test'+str(c) for c in tests] #Colnames of Tests\n",
    "        tim = ['Time'+str(c) for c in tests] #Colnames of Times\n",
    "        if s == 'mean':\n",
    "            #Calculate Means of each required column\n",
    "            tes_vals = [np.mean(df[c]) for c in tes]\n",
    "            tim_vals = [np.mean(df[c]) for c in tim]\n",
    "            tes_cols = [tes_col[c] for c in tests]\n",
    "            tim_cols = [tim_col[c] for c in tests]\n",
    "            tes_vals.extend(tim_vals)\n",
    "            tes_cols.extend(tim_cols)          \n",
    "            marker = [\"s\"]*len(tes_cols)\n",
    "        elif s=='median':\n",
    "            #Calculate Medians of each required column\n",
    "            tes_vals = [np.median(df[c]) for c in tes]\n",
    "            tim_vals = [np.median(df[c]) for c in tim]\n",
    "            tes_cols = [tes_col[c] for c in tests]\n",
    "            tim_cols = [tim_col[c] for c in tests]\n",
    "            tes_vals.extend(tim_vals)\n",
    "            tes_cols.extend(tim_cols)\n",
    "            marker = [\"o\"]*len(tes_cols)\n",
    "        elif s=='std_dev':\n",
    "            #Calculate Std Dev of each required column\n",
    "            tes_vals = [np.std(df[c]) for c in tes]\n",
    "            tim_vals = [np.std(df[c]) for c in tim]\n",
    "            tes_cols = [tes_col[c] for c in tests]\n",
    "            tim_cols = [tim_col[c] for c in tests]\n",
    "            tes_vals.extend(tim_vals)\n",
    "            tes_cols.extend(tim_cols)\n",
    "            marker = [\"*\"]*len(tes_cols)\n",
    "        else :\n",
    "            print('INVALID STATS FUNCTION')\n",
    "        \n",
    "        labels.extend(tests*2)\n",
    "        values.extend(tes_vals)\n",
    "        colors.extend(tes_cols)\n",
    "        markers.extend(marker)\n",
    "        \n",
    "\n",
    "    fig, ax = plt.subplots()\n",
    "    for xp, yp,c, m in zip(labels, values,colors, markers):\n",
    "        ax.scatter([xp],[yp],color = [c], marker=m)\n",
    "    plt.xlabel(\"Tests\")\n",
    "    plt.title(\"Stats Plot\")\n",
    "    plt.show()\n",
    "        "
   ]
  },
  {
   "cell_type": "code",
   "execution_count": 218,
   "metadata": {},
   "outputs": [
    {
     "data": {
      "image/png": "[encoded data removed]",
      "text/plain": [
       "<Figure size 432x288 with 1 Axes>"
      ]
     },
     "metadata": {
      "needs_background": "light"
     },
     "output_type": "display_data"
    }
   ],
   "source": [
    "plot_stats_for_test('grades_times.csv', [1,3], ['mean'])"
   ]
  },
  {
   "cell_type": "code",
   "execution_count": 219,
   "metadata": {},
   "outputs": [
    {
     "data": {
      "image/png": "[encoded data removed]",
      "text/plain": [
       "<Figure size 432x288 with 1 Axes>"
      ]
     },
     "metadata": {
      "needs_background": "light"
     },
     "output_type": "display_data"
    }
   ],
   "source": [
    "plot_stats_for_test('grades_times.csv', [2,3], ['median','std_dev'])"
   ]
  },
  {
   "cell_type": "code",
   "execution_count": 212,
   "metadata": {},
   "outputs": [
    {
     "data": {
      "text/plain": [
       "'D:/ch/'"
      ]
     },
     "execution_count": 212,
     "metadata": {},
     "output_type": "execute_result"
    }
   ],
   "source": [
    "path = 'D:/ch/'\n",
    "path"
   ]
  },
  {
   "cell_type": "code",
   "execution_count": 225,
   "metadata": {},
   "outputs": [
    {
     "name": "stdout",
     "output_type": "stream",
     "text": [
      "ï»¿Name,Test1,Test2,Test3,Time1,Time2,Time3\n",
      "A,23,54,43,30,20,40\n",
      "B,34,32,45,40,40,40\n",
      "C,45,12,67,30,30,40\n",
      "D,56,45,12,30,50,35\n",
      "E,67,67,34,45,20,60\n",
      "F,78,87,56,50,30,45\n"
     ]
    }
   ],
   "source": [
    "file1 = open(path+filename, 'r')\n",
    "Lines = file1.readlines()\n",
    "\n",
    "count = 0\n",
    "# Strips the newline character\n",
    "for line in Lines:\n",
    "    count += 1\n",
    "    print(line.strip())"
   ]
  },
  {
   "cell_type": "code",
   "execution_count": 231,
   "metadata": {},
   "outputs": [
    {
     "data": {
      "text/plain": [
       "1"
      ]
     },
     "execution_count": 231,
     "metadata": {},
     "output_type": "execute_result"
    }
   ],
   "source": [
    "Lines[0].strip().split(\"delimiter\")"
   ]
  }
 ],
 "metadata": {
  "kernelspec": {
   "display_name": "Python 3",
   "language": "python",
   "name": "python3"
  },
  "language_info": {
   "codemirror_mode": {
    "name": "ipython",
    "version": 3
   },
   "file_extension": ".py",
   "mimetype": "text/x-python",
   "name": "python",
   "nbconvert_exporter": "python",
   "pygments_lexer": "ipython3",
   "version": "3.7.4"
  }
 },
 "nbformat": 4,
 "nbformat_minor": 2
}

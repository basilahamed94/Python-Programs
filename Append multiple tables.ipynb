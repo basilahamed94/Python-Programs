{
 "cells": [
  {
   "cell_type": "code",
   "execution_count": 1,
   "metadata": {},
   "outputs": [],
   "source": [
    "import pandas as pd\n",
    "import os"
   ]
  },
  {
   "cell_type": "code",
   "execution_count": 2,
   "metadata": {},
   "outputs": [],
   "source": [
    "path = r'D:\\NSP\\NSP Assam\\Extracted Files\\ST\\POST\\STUDENT PROFILE - POST ST'"
   ]
  },
  {
   "cell_type": "code",
   "execution_count": 3,
   "metadata": {},
   "outputs": [],
   "source": [
    "files = os.listdir(path)"
   ]
  },
  {
   "cell_type": "code",
   "execution_count": 4,
   "metadata": {},
   "outputs": [
    {
     "data": {
      "text/plain": [
       "['ASSAM_ST_POST_STUDENT PROFILE_2017-18.csv',\n",
       " 'ASSAM_ST_POST_STUDENT PROFILE_2018-19.csv',\n",
       " 'ASSAM_ST_POST_STUDENT PROFILE_2019-20.csv']"
      ]
     },
     "execution_count": 4,
     "metadata": {},
     "output_type": "execute_result"
    }
   ],
   "source": [
    "files"
   ]
  },
  {
   "cell_type": "code",
   "execution_count": 5,
   "metadata": {},
   "outputs": [],
   "source": [
    "f1 = pd.read_csv(path+'/ASSAM_ST_POST_STUDENT PROFILE_2017-18.csv')"
   ]
  },
  {
   "cell_type": "code",
   "execution_count": 6,
   "metadata": {},
   "outputs": [
    {
     "data": {
      "text/plain": [
       "Index(['APPLICANT ID', 'APPLICANT NAME', 'ACADEMIC YEAR', 'SCHEME', 'STATE',\n",
       "       'FEE'],\n",
       "      dtype='object')"
      ]
     },
     "execution_count": 6,
     "metadata": {},
     "output_type": "execute_result"
    }
   ],
   "source": [
    "f1.columns"
   ]
  },
  {
   "cell_type": "code",
   "execution_count": 7,
   "metadata": {},
   "outputs": [
    {
     "data": {
      "text/plain": [
       "(26867, 6)"
      ]
     },
     "execution_count": 7,
     "metadata": {},
     "output_type": "execute_result"
    }
   ],
   "source": [
    "f1.shape"
   ]
  },
  {
   "cell_type": "code",
   "execution_count": 8,
   "metadata": {},
   "outputs": [],
   "source": [
    "result_df = pd.DataFrame(columns = f1.columns)"
   ]
  },
  {
   "cell_type": "code",
   "execution_count": 9,
   "metadata": {},
   "outputs": [
    {
     "name": "stdout",
     "output_type": "stream",
     "text": [
      "D:\\NSP\\NSP Assam\\Extracted Files\\ST\\POST\\STUDENT PROFILE - POST ST/ASSAM_ST_POST_STUDENT PROFILE_2017-18.csv \n",
      " Shape of file: (26867, 6)\n",
      "Shape of result_df: (26867, 6)\n",
      "D:\\NSP\\NSP Assam\\Extracted Files\\ST\\POST\\STUDENT PROFILE - POST ST/ASSAM_ST_POST_STUDENT PROFILE_2018-19.csv \n",
      " Shape of file: (79526, 6)\n",
      "Shape of result_df: (106393, 6)\n",
      "D:\\NSP\\NSP Assam\\Extracted Files\\ST\\POST\\STUDENT PROFILE - POST ST/ASSAM_ST_POST_STUDENT PROFILE_2019-20.csv \n",
      " Shape of file: (25087, 6)\n",
      "Shape of result_df: (131480, 6)\n"
     ]
    }
   ],
   "source": [
    "for f in files:\n",
    "    df = pd.read_csv(path+'/'+f)\n",
    "    print(path+'/'+f,'\\n Shape of file:', df.shape)\n",
    "    result_df = result_df.append(df,ignore_index = True)\n",
    "    print('Shape of result_df:', result_df.shape)"
   ]
  },
  {
   "cell_type": "code",
   "execution_count": 11,
   "metadata": {},
   "outputs": [],
   "source": [
    "result_df.to_csv(r'D:\\NSP\\NSP Assam\\Extracted Files\\ST\\POST\\STUDENT_PROFILE_COMBINED.csv',index=False)"
   ]
  },
  {
   "cell_type": "code",
   "execution_count": null,
   "metadata": {},
   "outputs": [],
   "source": []
  }
 ],
 "metadata": {
  "kernelspec": {
   "display_name": "Python 3",
   "language": "python",
   "name": "python3"
  },
  "language_info": {
   "codemirror_mode": {
    "name": "ipython",
    "version": 3
   },
   "file_extension": ".py",
   "mimetype": "text/x-python",
   "name": "python",
   "nbconvert_exporter": "python",
   "pygments_lexer": "ipython3",
   "version": "3.7.4"
  }
 },
 "nbformat": 4,
 "nbformat_minor": 2
}

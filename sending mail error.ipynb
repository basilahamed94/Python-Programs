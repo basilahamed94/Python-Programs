{
 "cells": [
  {
   "cell_type": "code",
   "execution_count": 9,
   "metadata": {},
   "outputs": [
    {
     "name": "stderr",
     "output_type": "stream",
     "text": [
      "usage: ipykernel_launcher.py [-h] admin usage_limit\n",
      "ipykernel_launcher.py: error: the following arguments are required: usage_limit\n"
     ]
    },
    {
     "ename": "SystemExit",
     "evalue": "2",
     "output_type": "error",
     "traceback": [
      "An exception has occurred, use %tb to see the full traceback.\n",
      "\u001b[1;31mSystemExit\u001b[0m\u001b[1;31m:\u001b[0m 2\n"
     ]
    },
    {
     "name": "stderr",
     "output_type": "stream",
     "text": [
      "D:\\anac\\lib\\site-packages\\IPython\\core\\interactiveshell.py:3334: UserWarning: To exit: use 'exit', 'quit', or Ctrl-D.\n",
      "  warn(\"To exit: use 'exit', 'quit', or Ctrl-D.\", stacklevel=1)\n"
     ]
    }
   ],
   "source": [
    "import os\n",
    "import argparse\n",
    "\n",
    "parser = argparse.ArgumentParser()\n",
    "parser.add_argument(\n",
    "   \"admin\",\n",
    "   help=\"Enter mail address of admin\"\n",
    ")\n",
    "parser.add_argument(\n",
    "   \"usage_limit\", type=int,\n",
    "   help=\"Enter the limit for memory usage\"\n",
    ")\n",
    "args = parser.parse_args()\n",
    "\n",
    "#The local email account to send notifications to\n",
    "admin=args.admin\n",
    "#The percentage use at which notifications will be sent\n",
    "alert=args.usage_limit\n",
    "#Capture the machine's hostname\n",
    "hostname = os.popen(\"hostname\").read().strip()\n",
    "#current timestamp\n",
    "date = os.popen(\"date\").read().strip()\n",
    "\n",
    "#Gather %use and device/filesystem of each volume\n",
    "diskusage = os.popen(\"df -H | grep -vE '^Filesystem|tmpfs|cdrom' | awk '{ print $5 \\\" \\\" $1 }'\")\n",
    "#Loop through each volume entry\n",
    "for disk in diskusage.readlines():\n",
    "    #Extract percentage use\n",
    "    usage = os.popen(\"echo \" + disk.strip() + \" | awk '{ print $1}' | cut -d'%' -f1\").read().strip()\n",
    "    #extract device/filesystem name\n",
    "    partition = os.popen (\"echo \" + disk.strip() + \" | awk '{ print $2 }'\")\n",
    "    #Convert usage into intege\n",
    "    usageint = int(usage)\n",
    "    partitionstring = partition.read().strip()\n",
    "   #if %use of this volume is above the point at which we want to be notified...\n",
    "   if usageint > alert:\n",
    "       #...send that notification\n",
    "       os.system(\"echo '\" + hostname + \" is running out of space on \" + partitionstring + \" partition.  As of \" + date + \" it is at \" + usage + \"%.' | mail -s 'Alert: \" + hostname + \" is almost out of disk space' \" + admin)"
   ]
  }
 ],
 "metadata": {
  "kernelspec": {
   "display_name": "Python 3",
   "language": "python",
   "name": "python3"
  },
  "language_info": {
   "codemirror_mode": {
    "name": "ipython",
    "version": 3
   },
   "file_extension": ".py",
   "mimetype": "text/x-python",
   "name": "python",
   "nbconvert_exporter": "python",
   "pygments_lexer": "ipython3",
   "version": "3.7.4"
  }
 },
 "nbformat": 4,
 "nbformat_minor": 2
}

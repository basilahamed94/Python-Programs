{
 "cells": [
  {
   "cell_type": "code",
   "execution_count": 3,
   "metadata": {},
   "outputs": [],
   "source": [
    "from tkinter import *\n",
    "from tkinter import ttk\n",
    "window = Tk()\n",
    "window.title(\"Welcome to TutorialsPoint\")\n",
    "window.geometry('400x400')\n",
    "window.configure(background = \"grey\");\n",
    "a = Label(window ,text = \"Full Name\").grid(row = 0,column = 0)\n",
    "b = Label(window ,text = \"Phone\").grid(row = 1,column = 0)\n",
    "c = Label(window ,text = \"Id\").grid(row = 2,column = 0)\n",
    "d = Label(window ,text = \"GPA\").grid(row = 3,column = 0)\n",
    "a1 = Entry(window).grid(row = 0,column = 1)\n",
    "b1 = Entry(window).grid(row = 1,column = 1)\n",
    "c1 = Entry(window).grid(row = 2,column = 1)\n",
    "d1 = Entry(window).grid(row = 3,column = 1)\n",
    "def clicked():\n",
    "   res = \"Welcome to \" + txt.get()\n",
    "   lbl.configure(text= res)\n",
    "btn = ttk.Button(window ,text=\"Submit\").grid(row=4,column=0)\n",
    "window.mainloop()"
   ]
  }
 ],
 "metadata": {
  "kernelspec": {
   "display_name": "Python 3",
   "language": "python",
   "name": "python3"
  },
  "language_info": {
   "codemirror_mode": {
    "name": "ipython",
    "version": 3
   },
   "file_extension": ".py",
   "mimetype": "text/x-python",
   "name": "python",
   "nbconvert_exporter": "python",
   "pygments_lexer": "ipython3",
   "version": "3.7.4"
  }
 },
 "nbformat": 4,
 "nbformat_minor": 2
}

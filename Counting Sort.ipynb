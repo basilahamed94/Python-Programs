{
 "cells": [
  {
   "cell_type": "code",
   "execution_count": null,
   "metadata": {},
   "outputs": [],
   "source": [
    "#SortStudents function. Takes as input a list of Student objects,\n",
    "\n",
    "#sorted alphabetically by name (last, then first), and outputs a list of\n",
    "\n",
    "#Student objects, sorted by the following priority:\n",
    "\n",
    "#house, then year, then name.\n",
    "\n",
    "\n",
    "\n"
   ]
  },
  {
   "cell_type": "code",
   "execution_count": 160,
   "metadata": {},
   "outputs": [],
   "source": [
    "def SortStudents(studentList):\n",
    "    cols_in_order = ['House','Year','Name']\n",
    "    abc = pd.DataFrame(studentList.apply(pd.Series.value_counts))\n",
    "    l = []\n",
    "    for k in cols_in_order:\n",
    "        print(k)\n",
    "        s = abc[k].dropna().sort_values(ascending = False)\n",
    "        print(s)\n",
    "        a = list(s.index)\n",
    "        b = [int(s) for s in s]\n",
    "        c = sum([[s] * n for s, n in zip(a, b)], [])\n",
    "        l.append(c)\n",
    "        print(c)\n",
    "\n",
    "    student_list = pd.DataFrame(list(zip(*l)),columns = cols_in_order)\n",
    "    return student_list"
   ]
  },
  {
   "cell_type": "code",
   "execution_count": 161,
   "metadata": {},
   "outputs": [
    {
     "name": "stdout",
     "output_type": "stream",
     "text": [
      "House\n",
      "ABC    3.0\n",
      "BCD    2.0\n",
      "Name: House, dtype: float64\n",
      "['ABC', 'ABC', 'ABC', 'BCD', 'BCD']\n",
      "Year\n",
      "2000    3.0\n",
      "1998    1.0\n",
      "1995    1.0\n",
      "Name: Year, dtype: float64\n",
      "[2000, 2000, 2000, 1998, 1995]\n",
      "Name\n",
      "xxx        1.0\n",
      "Sha Hai    1.0\n",
      "Ishan      1.0\n",
      "Hai Sha    1.0\n",
      "Ghashi     1.0\n",
      "Name: Name, dtype: float64\n",
      "['xxx', 'Sha Hai', 'Ishan', 'Hai Sha', 'Ghashi']\n"
     ]
    },
    {
     "data": {
      "text/html": [
       "<div>\n",
       "<style scoped>\n",
       "    .dataframe tbody tr th:only-of-type {\n",
       "        vertical-align: middle;\n",
       "    }\n",
       "\n",
       "    .dataframe tbody tr th {\n",
       "        vertical-align: top;\n",
       "    }\n",
       "\n",
       "    .dataframe thead th {\n",
       "        text-align: right;\n",
       "    }\n",
       "</style>\n",
       "<table border=\"1\" class=\"dataframe\">\n",
       "  <thead>\n",
       "    <tr style=\"text-align: right;\">\n",
       "      <th></th>\n",
       "      <th>House</th>\n",
       "      <th>Year</th>\n",
       "      <th>Name</th>\n",
       "    </tr>\n",
       "  </thead>\n",
       "  <tbody>\n",
       "    <tr>\n",
       "      <td>0</td>\n",
       "      <td>ABC</td>\n",
       "      <td>2000</td>\n",
       "      <td>xxx</td>\n",
       "    </tr>\n",
       "    <tr>\n",
       "      <td>1</td>\n",
       "      <td>ABC</td>\n",
       "      <td>2000</td>\n",
       "      <td>Sha Hai</td>\n",
       "    </tr>\n",
       "    <tr>\n",
       "      <td>2</td>\n",
       "      <td>ABC</td>\n",
       "      <td>2000</td>\n",
       "      <td>Ishan</td>\n",
       "    </tr>\n",
       "    <tr>\n",
       "      <td>3</td>\n",
       "      <td>BCD</td>\n",
       "      <td>1998</td>\n",
       "      <td>Hai Sha</td>\n",
       "    </tr>\n",
       "    <tr>\n",
       "      <td>4</td>\n",
       "      <td>BCD</td>\n",
       "      <td>1995</td>\n",
       "      <td>Ghashi</td>\n",
       "    </tr>\n",
       "  </tbody>\n",
       "</table>\n",
       "</div>"
      ],
      "text/plain": [
       "  House  Year     Name\n",
       "0   ABC  2000      xxx\n",
       "1   ABC  2000  Sha Hai\n",
       "2   ABC  2000    Ishan\n",
       "3   BCD  1998  Hai Sha\n",
       "4   BCD  1995   Ghashi"
      ]
     },
     "execution_count": 161,
     "metadata": {},
     "output_type": "execute_result"
    }
   ],
   "source": [
    "import pandas as pd\n",
    "sl  = pd.read_csv(r'C:\\Users\\User 8\\Desktop\\studentlist.csv')\n",
    "SortStudents(sl)"
   ]
  },
  {
   "cell_type": "code",
   "execution_count": 192,
   "metadata": {
    "scrolled": true
   },
   "outputs": [
    {
     "name": "stdout",
     "output_type": "stream",
     "text": [
      "House\n",
      "Year\n",
      "Name\n"
     ]
    }
   ],
   "source": [
    "import itertools, operator\n",
    "matches = [sl.columns]\n",
    "for mat_x in itertools.product(*matches):\n",
    "    #print(mat_x)\n",
    "    m=''\n",
    "    for x in mat_x:\n",
    "        m = m+x\n",
    "        print(m)"
   ]
  },
  {
   "cell_type": "code",
   "execution_count": 194,
   "metadata": {},
   "outputs": [
    {
     "name": "stdout",
     "output_type": "stream",
     "text": [
      "('House', 'Year', 'Name')\n"
     ]
    }
   ],
   "source": [
    "import itertools\n",
    "\n",
    "a = ['House']\n",
    "b = ['Year']\n",
    "c = ['Name']\n",
    "\n",
    "args = [a,b,c]\n",
    "\n",
    "for combination in itertools.product(*args):\n",
    "    print(combination)"
   ]
  },
  {
   "cell_type": "code",
   "execution_count": 195,
   "metadata": {},
   "outputs": [
    {
     "name": "stdout",
     "output_type": "stream",
     "text": [
      "1 1 1 1 \n",
      "1 1 1 2 \n",
      "1 1 2 1 \n",
      "1 1 2 2 \n",
      "1 2 1 1 \n",
      "1 2 1 2 \n",
      "1 2 2 1 \n",
      "1 2 2 2 \n",
      "2 1 1 1 \n",
      "2 1 1 2 \n",
      "2 1 2 1 \n",
      "2 1 2 2 \n",
      "2 2 1 1 \n",
      "2 2 1 2 \n",
      "2 2 2 1 \n",
      "2 2 2 2 \n"
     ]
    }
   ],
   "source": [
    "MAXROWS = 4      #    contains the number of levels\n",
    "MAXVALUES = 2    #    contains the maximum combination for a given nested variables.\n",
    "\n",
    "display = ['1', '2', '3', '4', '5', '6', '7', '8', '9']\n",
    "\n",
    "arrs = [0] * MAXROWS   # represent the different variables in the for loops                      \n",
    "status = False\n",
    "\n",
    "while not status: \n",
    "\n",
    "    total = 0\n",
    "    # calculate total for exit condition\n",
    "    for r in range(MAXROWS):\n",
    "        total += arrs[r]\n",
    "        # test for exit condition\n",
    "    if total == (MAXVALUES - 1) * MAXROWS:\n",
    "        status = True\n",
    "\n",
    "    # printing\n",
    "    for r in range(MAXROWS):\n",
    "        print(display[arrs[r]], end=' ')  # print(arrs[r])\n",
    "    print()\n",
    "\n",
    "    # increment loop variables\n",
    "    change = True\n",
    "    r = MAXROWS-1    # start from innermost loop\n",
    "\n",
    "    while change and r >= 0:\n",
    "    # increment the innermost variable and check if spill overs\n",
    "        if (arrs[r] + 1) > MAXVALUES-1:    \n",
    "            arrs[r] += 1\n",
    "            arrs[r] = 0     #  // reintialize loop variable\n",
    "            # Change the upper variable by one\n",
    "            # We need to increment the immediate upper level loop by one\n",
    "            change = True   \n",
    "        else:\n",
    "            arrs[r] += 1\n",
    "            change = False   # Stop as there the upper levels of the loop are unaffected\n",
    "\n",
    "            # We can perform any inner loop calculation here arrs[r]\n",
    "\n",
    "        r -= 1  #  move to upper level of the loop"
   ]
  },
  {
   "cell_type": "code",
   "execution_count": 145,
   "metadata": {},
   "outputs": [
    {
     "data": {
      "text/html": [
       "<div>\n",
       "<style scoped>\n",
       "    .dataframe tbody tr th:only-of-type {\n",
       "        vertical-align: middle;\n",
       "    }\n",
       "\n",
       "    .dataframe tbody tr th {\n",
       "        vertical-align: top;\n",
       "    }\n",
       "\n",
       "    .dataframe thead th {\n",
       "        text-align: right;\n",
       "    }\n",
       "</style>\n",
       "<table border=\"1\" class=\"dataframe\">\n",
       "  <thead>\n",
       "    <tr style=\"text-align: right;\">\n",
       "      <th></th>\n",
       "      <th>House</th>\n",
       "      <th>Year</th>\n",
       "      <th>Name</th>\n",
       "    </tr>\n",
       "  </thead>\n",
       "  <tbody>\n",
       "    <tr>\n",
       "      <td>0</td>\n",
       "      <td>ABC</td>\n",
       "      <td>2000</td>\n",
       "      <td>Sha Hai</td>\n",
       "    </tr>\n",
       "    <tr>\n",
       "      <td>1</td>\n",
       "      <td>ABC</td>\n",
       "      <td>2000</td>\n",
       "      <td>Ishan</td>\n",
       "    </tr>\n",
       "    <tr>\n",
       "      <td>2</td>\n",
       "      <td>ABC</td>\n",
       "      <td>1998</td>\n",
       "      <td>Hai Sha</td>\n",
       "    </tr>\n",
       "    <tr>\n",
       "      <td>3</td>\n",
       "      <td>BCD</td>\n",
       "      <td>1995</td>\n",
       "      <td>Ghashi</td>\n",
       "    </tr>\n",
       "  </tbody>\n",
       "</table>\n",
       "</div>"
      ],
      "text/plain": [
       "  House  Year     Name\n",
       "0   ABC  2000  Sha Hai\n",
       "1   ABC  2000    Ishan\n",
       "2   ABC  1998  Hai Sha\n",
       "3   BCD  1995   Ghashi"
      ]
     },
     "execution_count": 145,
     "metadata": {},
     "output_type": "execute_result"
    }
   ],
   "source": [
    " pd.DataFrame(list(zip(*l)),columns = cols_in_order)"
   ]
  },
  {
   "cell_type": "code",
   "execution_count": 91,
   "metadata": {},
   "outputs": [
    {
     "data": {
      "text/plain": [
       "Index(['ABC', 'BCD'], dtype='object')"
      ]
     },
     "execution_count": 91,
     "metadata": {},
     "output_type": "execute_result"
    }
   ],
   "source": [
    "abc = pd.DataFrame(sl.apply(pd.Series.value_counts))\n",
    "abc['House'].dropna().sort_values(ascending = False).index"
   ]
  },
  {
   "cell_type": "code",
   "execution_count": 95,
   "metadata": {},
   "outputs": [
    {
     "data": {
      "text/plain": [
       "[2, 1]"
      ]
     },
     "execution_count": 95,
     "metadata": {},
     "output_type": "execute_result"
    }
   ],
   "source": [
    "list(s.index)\n",
    "list(s)"
   ]
  },
  {
   "cell_type": "code",
   "execution_count": 10,
   "metadata": {},
   "outputs": [
    {
     "name": "stdout",
     "output_type": "stream",
     "text": [
      "Sorted Array in Ascending Order: \n",
      "[1, 2, 2, 3, 3, 4, 8]\n"
     ]
    }
   ],
   "source": [
    "# Counting sort in Python programming\n",
    "\n",
    "def countingSort(array):\n",
    "    size = len(array)\n",
    "    output = [0] * size\n",
    "\n",
    "    # Initialize count array\n",
    "    count = [0] * 10\n",
    "\n",
    "    # Store the count of each elements in count array\n",
    "    for i in range(0, size):\n",
    "        count[array[i]] += 1\n",
    "\n",
    "    # Store the cummulative count\n",
    "    for i in range(1, 10):\n",
    "        count[i] += count[i - 1]\n",
    "\n",
    "    # Find the index of each element of the original array in count array\n",
    "    # place the elements in output array\n",
    "    i = size - 1\n",
    "    while i >= 0:\n",
    "        output[count[array[i]] - 1] = array[i]\n",
    "        count[array[i]] -= 1\n",
    "        i -= 1\n",
    "\n",
    "    # Copy the sorted elements into original array\n",
    "    for i in range(0, size):\n",
    "        array[i] = output[i]\n",
    "\n",
    "\n",
    "data = [4, 2, 2, 8, 3, 3, 1]\n",
    "countingSort(data)\n",
    "print(\"Sorted Array in Ascending Order: \")\n",
    "print(data)"
   ]
  },
  {
   "cell_type": "code",
   "execution_count": 13,
   "metadata": {},
   "outputs": [
    {
     "name": "stdout",
     "output_type": "stream",
     "text": [
      "Sorted character array is eeeefggkkorss\n"
     ]
    }
   ],
   "source": [
    "# Python program for counting sort\n",
    " \n",
    "# The main function that sort the given string arr[] in\n",
    "# alphabetical order\n",
    "def countSort(arr):\n",
    " \n",
    "    # The output character array that will have sorted arr\n",
    "    output = [0 for i in range(256)]\n",
    " \n",
    "    # Create a count array to store count of individual\n",
    "    # characters and initialize count array as 0\n",
    "    count = [0 for i in range(256)]\n",
    " \n",
    "    # For storing the resulting answer since the\n",
    "    # string is immutable\n",
    "    ans = [\"\" for _ in arr]\n",
    " \n",
    "    # Store count of each character\n",
    "    for i in arr:\n",
    "        count[ord(i)] += 1\n",
    " \n",
    "    # Change count[i] so that count[i] now contains actual\n",
    "    # position of this character in output array\n",
    "    for i in range(256):\n",
    "        count[i] += count[i-1]\n",
    " \n",
    "    # Build the output character array\n",
    "    for i in range(len(arr)):\n",
    "        output[count[ord(arr[i])]-1] = arr[i]\n",
    "        count[ord(arr[i])] -= 1\n",
    " \n",
    "    # Copy the output array to arr, so that arr now\n",
    "    # contains sorted characters\n",
    "    for i in range(len(arr)):\n",
    "        ans[i] = output[i]\n",
    "    return ans\n",
    " \n",
    "\n",
    "# Driver program to test above function\n",
    "arr = \"geeksforgeeks\"\n",
    "ans = countSort(arr)\n",
    "print (\"Sorted character array is %s\"  %(\"\".join(ans)))\n",
    " \n",
    "# This code is contributed by Nikhil Kumar Singh"
   ]
  }
 ],
 "metadata": {
  "kernelspec": {
   "display_name": "Python 3",
   "language": "python",
   "name": "python3"
  },
  "language_info": {
   "codemirror_mode": {
    "name": "ipython",
    "version": 3
   },
   "file_extension": ".py",
   "mimetype": "text/x-python",
   "name": "python",
   "nbconvert_exporter": "python",
   "pygments_lexer": "ipython3",
   "version": "3.7.4"
  }
 },
 "nbformat": 4,
 "nbformat_minor": 2
}

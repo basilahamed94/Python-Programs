{
 "cells": [
  {
   "cell_type": "code",
   "execution_count": 66,
   "metadata": {},
   "outputs": [],
   "source": [
    "#Change input location inside the single quotes\n",
    "#Make sure you only have csv files in the folder\n",
    "path = r'D:\\NSP ML'"
   ]
  },
  {
   "cell_type": "code",
   "execution_count": 41,
   "metadata": {},
   "outputs": [
    {
     "name": "stdout",
     "output_type": "stream",
     "text": [
      "str_3000 -> str3000\n",
      "str_3000_str -> str3000_str\n",
      "str_3000_str_2000 -> str3000_str2000\n"
     ]
    }
   ],
   "source": [
    "import os\n",
    "x = os.listdir(path)\n",
    "def find(str, ch):\n",
    "    for i, ltr in enumerate(str):\n",
    "        if ltr == ch:\n",
    "            yield i\n",
    "for i in x:\n",
    "    df = pd.read_csv(path+'\\\\'+i)\n",
    "    l=list(find(i, \"_\"))\n",
    "    #print(i,l)\n",
    "    k=i\n",
    "    c=0\n",
    "    for j in l:\n",
    "        #print(k,j,c)\n",
    "        if k[j-c+1].isdigit()== True:\n",
    "            l = list(k)\n",
    "            del(l[j-c])\n",
    "            k = \"\".join(l)\n",
    "            c=c+1\n",
    "    print(i,'->',k)\n",
    "    os.rename(path+'\\\\'+i,path+'\\\\'+k)\n",
    "    "
   ]
  },
  {
   "cell_type": "code",
   "execution_count": 65,
   "metadata": {},
   "outputs": [],
   "source": []
  }
 ],
 "metadata": {
  "kernelspec": {
   "display_name": "Python 3",
   "language": "python",
   "name": "python3"
  },
  "language_info": {
   "codemirror_mode": {
    "name": "ipython",
    "version": 3
   },
   "file_extension": ".py",
   "mimetype": "text/x-python",
   "name": "python",
   "nbconvert_exporter": "python",
   "pygments_lexer": "ipython3",
   "version": "3.7.4"
  }
 },
 "nbformat": 4,
 "nbformat_minor": 2
}

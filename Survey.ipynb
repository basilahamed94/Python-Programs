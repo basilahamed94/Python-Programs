{
 "cells": [
  {
   "cell_type": "code",
   "execution_count": 50,
   "metadata": {},
   "outputs": [
    {
     "name": "stdout",
     "output_type": "stream",
     "text": [
      "\n",
      "MAIN MENU\n",
      "1. Take Survey\n",
      "2. Avg response\n",
      "3. Exit\n",
      "Enter the Choice:1\n",
      "Do you think climate change is real?\n",
      "\n",
      "0-Strongly Agree\t1-Agree\n",
      "2-Neither Agree Nor Disagree\n",
      "3-Disagree\t4-Strongly Disagree\n",
      "Enter your choice [0-4]\t2\n",
      "Do you believe in love?\n",
      "\n",
      "0-Strongly Agree\t1-Agree\n",
      "2-Neither Agree Nor Disagree\n",
      "3-Disagree\t4-Strongly Disagree\n",
      "Enter your choice [0-4]\t3\n",
      "Do you think social media is harming your mental health?\n",
      "\n",
      "0-Strongly Agree\t1-Agree\n",
      "2-Neither Agree Nor Disagree\n",
      "3-Disagree\t4-Strongly Disagree\n",
      "Enter your choice [0-4]\t4\n",
      "\n",
      "MAIN MENU\n",
      "1. Take Survey\n",
      "2. Avg response\n",
      "3. Exit\n",
      "Enter the Choice:2\n",
      "\n",
      "\n",
      "Avg survey score\n",
      "Question-1 2.0\n",
      "Question-2 2.0\n",
      "Question-3 2.0\n",
      "\n",
      "MAIN MENU\n",
      "1. Take Survey\n",
      "2. Avg response\n",
      "3. Exit\n",
      "Enter the Choice:3\n"
     ]
    }
   ],
   "source": [
    "while True:  \n",
    "    print(\"\\nMAIN MENU\")  \n",
    "    print(\"1. Take Survey\")\n",
    "    print(\"2. Avg response\")\n",
    "    print(\"3. Exit\")\n",
    "    try:\n",
    "        choice = int(input(\"Enter the Choice:\"))  \n",
    "    except ValueError:\n",
    "        print(\"You must type a number between 0 and 4!\")\n",
    "        continue\n",
    "    if choice ==1:\n",
    "        take_survey()\n",
    "    elif choice ==2:\n",
    "        avg_scores(answers[0]['Q1'],answers[0]['Q1'],answers[0]['Q1'])\n",
    "    elif choice==3:\n",
    "        break\n",
    "    else: \n",
    "        print('Invalid choice')\n",
    "        continue\n",
    "    "
   ]
  },
  {
   "cell_type": "code",
   "execution_count": 5,
   "metadata": {
    "scrolled": true
   },
   "outputs": [
    {
     "ename": "TypeError",
     "evalue": "can't multiply sequence by non-int of type 'list'",
     "output_type": "error",
     "traceback": [
      "\u001b[1;31m---------------------------------------------------------------------------\u001b[0m",
      "\u001b[1;31mTypeError\u001b[0m                                 Traceback (most recent call last)",
      "\u001b[1;32m<ipython-input-5-bd77ec8884ac>\u001b[0m in \u001b[0;36m<module>\u001b[1;34m\u001b[0m\n\u001b[1;32m----> 1\u001b[1;33m \u001b[0ml1\u001b[0m\u001b[1;33m*\u001b[0m\u001b[0ml2\u001b[0m\u001b[1;33m\u001b[0m\u001b[1;33m\u001b[0m\u001b[0m\n\u001b[0m",
      "\u001b[1;31mTypeError\u001b[0m: can't multiply sequence by non-int of type 'list'"
     ]
    }
   ],
   "source": [
    "def take_survey():\n",
    "    while(True):\n",
    "        q1 = int(input(\"Do you think climate change is real?\\n\\n0-Strongly Agree\\t1-Agree\\n2-Neither Agree Nor Disagree\\n3-Disagree\\t4-Strongly Disagree\\nEnter your choice [0-4]\\t\"))\n",
    "        if q1 in [0,1,2,3,4]:\n",
    "            break\n",
    "        else:\n",
    "            print('Enter a valid choice')\n",
    "    "
   ]
  },
  {
   "cell_type": "code",
   "execution_count": 39,
   "metadata": {
    "scrolled": true
   },
   "outputs": [],
   "source": [
    "a1=[]\n",
    "a2=[]\n",
    "a3=[]\n",
    "answers = [ {'Q1':[]},{'Q2':[]},{'Q3':[]} ]\n",
    "def take_survey():\n",
    "    while(True):\n",
    "        try:\n",
    "            q1 = int(input(\"Do you think climate change is real?\\n\\n0-Strongly Agree\\t1-Agree\\n2-Neither Agree Nor Disagree\\n3-Disagree\\t4-Strongly Disagree\\nEnter your choice [0-4]\\t\"))\n",
    "        except ValueError:\n",
    "            print(\"You must type a number between 0 and 4!\")\n",
    "            continue\n",
    "        if q1 in [0,1,2,3,4]:\n",
    "            break\n",
    "    while(True):\n",
    "        try:\n",
    "            q2 = int(input(\"Do you believe in love?\\n\\n0-Strongly Agree\\t1-Agree\\n2-Neither Agree Nor Disagree\\n3-Disagree\\t4-Strongly Disagree\\nEnter your choice [0-4]\\t\"))\n",
    "        except ValueError:\n",
    "            print(\"You must type a number between 0 and 4!\")\n",
    "            continue\n",
    "        if q2 in [0,1,2,3,4]:\n",
    "            break\n",
    "    while(True):\n",
    "        try:\n",
    "            q3 = int(input(\"Do you think social media is harming your mental health?\\n\\n0-Strongly Agree\\t1-Agree\\n2-Neither Agree Nor Disagree\\n3-Disagree\\t4-Strongly Disagree\\nEnter your choice [0-4]\\t\"))\n",
    "        except ValueError:\n",
    "            print(\"You must type a number between 0 and 4!\")\n",
    "            continue\n",
    "        if q3 in [0,1,2,3,4]:\n",
    "            break\n",
    "    answers[0]['Q1'].append(q1)\n",
    "    answers[1]['Q2'].append(q2)\n",
    "    answers[2]['Q3'].append(q3)\n",
    "\n"
   ]
  },
  {
   "cell_type": "code",
   "execution_count": 48,
   "metadata": {},
   "outputs": [],
   "source": [
    "def avg_scores(a1,a2,a3):\n",
    "    print('\\n\\nAvg survey score')\n",
    "\n",
    "    if len(a1)!=0:avg1=sum(a1)/len(a1) \n",
    "    else: avg1=0\n",
    "    print('Question-1',avg1)\n",
    "    \n",
    "    if len(a2)!=0:avg2=sum(a2)/len(a2) \n",
    "    else: avg2=0\n",
    "    print('Question-2',avg2)\n",
    "    \n",
    "    if len(a3)!=0:avg3=sum(a3)/len(a3) \n",
    "    else: avg3=0\n",
    "    print('Question-3',avg3)"
   ]
  },
  {
   "cell_type": "code",
   "execution_count": 46,
   "metadata": {},
   "outputs": [
    {
     "name": "stdout",
     "output_type": "stream",
     "text": [
      "\n",
      "\n",
      "Avg survey score\n"
     ]
    },
    {
     "ename": "ZeroDivisionError",
     "evalue": "division by zero",
     "output_type": "error",
     "traceback": [
      "\u001b[1;31m---------------------------------------------------------------------------\u001b[0m",
      "\u001b[1;31mZeroDivisionError\u001b[0m                         Traceback (most recent call last)",
      "\u001b[1;32m<ipython-input-46-adf4b1bfd865>\u001b[0m in \u001b[0;36m<module>\u001b[1;34m\u001b[0m\n\u001b[1;32m----> 1\u001b[1;33m \u001b[0mavg_scores\u001b[0m\u001b[1;33m(\u001b[0m\u001b[0manswers\u001b[0m\u001b[1;33m[\u001b[0m\u001b[1;36m0\u001b[0m\u001b[1;33m]\u001b[0m\u001b[1;33m[\u001b[0m\u001b[1;34m'Q1'\u001b[0m\u001b[1;33m]\u001b[0m\u001b[1;33m,\u001b[0m\u001b[0manswers\u001b[0m\u001b[1;33m[\u001b[0m\u001b[1;36m0\u001b[0m\u001b[1;33m]\u001b[0m\u001b[1;33m[\u001b[0m\u001b[1;34m'Q1'\u001b[0m\u001b[1;33m]\u001b[0m\u001b[1;33m,\u001b[0m\u001b[0manswers\u001b[0m\u001b[1;33m[\u001b[0m\u001b[1;36m0\u001b[0m\u001b[1;33m]\u001b[0m\u001b[1;33m[\u001b[0m\u001b[1;34m'Q1'\u001b[0m\u001b[1;33m]\u001b[0m\u001b[1;33m)\u001b[0m\u001b[1;33m\u001b[0m\u001b[1;33m\u001b[0m\u001b[0m\n\u001b[0m",
      "\u001b[1;32m<ipython-input-45-d068184cd064>\u001b[0m in \u001b[0;36mavg_scores\u001b[1;34m(a1, a2, a3)\u001b[0m\n\u001b[0;32m      1\u001b[0m \u001b[1;32mdef\u001b[0m \u001b[0mavg_scores\u001b[0m\u001b[1;33m(\u001b[0m\u001b[0ma1\u001b[0m\u001b[1;33m,\u001b[0m\u001b[0ma2\u001b[0m\u001b[1;33m,\u001b[0m\u001b[0ma3\u001b[0m\u001b[1;33m)\u001b[0m\u001b[1;33m:\u001b[0m\u001b[1;33m\u001b[0m\u001b[1;33m\u001b[0m\u001b[0m\n\u001b[0;32m      2\u001b[0m     \u001b[0mprint\u001b[0m\u001b[1;33m(\u001b[0m\u001b[1;34m'\\n\\nAvg survey score'\u001b[0m\u001b[1;33m)\u001b[0m\u001b[1;33m\u001b[0m\u001b[1;33m\u001b[0m\u001b[0m\n\u001b[1;32m----> 3\u001b[1;33m     \u001b[0mprint\u001b[0m\u001b[1;33m(\u001b[0m\u001b[1;34m'Question-1'\u001b[0m\u001b[1;33m,\u001b[0m\u001b[0msum\u001b[0m\u001b[1;33m(\u001b[0m\u001b[0ma1\u001b[0m\u001b[1;33m)\u001b[0m\u001b[1;33m/\u001b[0m\u001b[0mlen\u001b[0m\u001b[1;33m(\u001b[0m\u001b[0ma1\u001b[0m\u001b[1;33m)\u001b[0m\u001b[1;33m)\u001b[0m\u001b[1;33m\u001b[0m\u001b[1;33m\u001b[0m\u001b[0m\n\u001b[0m\u001b[0;32m      4\u001b[0m     \u001b[0mprint\u001b[0m\u001b[1;33m(\u001b[0m\u001b[1;34m'Question-2'\u001b[0m\u001b[1;33m,\u001b[0m\u001b[0msum\u001b[0m\u001b[1;33m(\u001b[0m\u001b[0ma2\u001b[0m\u001b[1;33m)\u001b[0m\u001b[1;33m/\u001b[0m\u001b[0mlen\u001b[0m\u001b[1;33m(\u001b[0m\u001b[0ma2\u001b[0m\u001b[1;33m)\u001b[0m\u001b[1;33m)\u001b[0m\u001b[1;33m\u001b[0m\u001b[1;33m\u001b[0m\u001b[0m\n\u001b[0;32m      5\u001b[0m     \u001b[0mprint\u001b[0m\u001b[1;33m(\u001b[0m\u001b[1;34m'Question-3'\u001b[0m\u001b[1;33m,\u001b[0m\u001b[0msum\u001b[0m\u001b[1;33m(\u001b[0m\u001b[0ma3\u001b[0m\u001b[1;33m)\u001b[0m\u001b[1;33m/\u001b[0m\u001b[0mlen\u001b[0m\u001b[1;33m(\u001b[0m\u001b[0ma3\u001b[0m\u001b[1;33m)\u001b[0m\u001b[1;33m)\u001b[0m\u001b[1;33m\u001b[0m\u001b[1;33m\u001b[0m\u001b[0m\n",
      "\u001b[1;31mZeroDivisionError\u001b[0m: division by zero"
     ]
    }
   ],
   "source": [
    "avg_scores(answers[0]['Q1'],answers[0]['Q1'],answers[0]['Q1'])"
   ]
  }
 ],
 "metadata": {
  "kernelspec": {
   "display_name": "Python 3",
   "language": "python",
   "name": "python3"
  },
  "language_info": {
   "codemirror_mode": {
    "name": "ipython",
    "version": 3
   },
   "file_extension": ".py",
   "mimetype": "text/x-python",
   "name": "python",
   "nbconvert_exporter": "python",
   "pygments_lexer": "ipython3",
   "version": "3.7.4"
  }
 },
 "nbformat": 4,
 "nbformat_minor": 2
}

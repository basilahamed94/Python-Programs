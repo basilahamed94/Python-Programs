{
 "cells": [
  {
   "cell_type": "code",
   "execution_count": 1,
   "metadata": {},
   "outputs": [
    {
     "name": "stdout",
     "output_type": "stream",
     "text": [
      "Collecting instabot\n",
      "  Downloading https://files.pythonhosted.org/packages/d9/19/a6e828f71330c67c6af414e2ef0d144ae1b7dac1b11e82e31af0c6b8fa27/instabot-0.117.0.tar.gz (84kB)\n",
      "Collecting certifi>=2019.11.28 (from instabot)\n",
      "  Downloading https://files.pythonhosted.org/packages/37/45/946c02767aabb873146011e665728b680884cd8fe70dde973c640e45b775/certifi-2021.10.8-py2.py3-none-any.whl (149kB)\n",
      "Requirement already satisfied: chardet>=3.0.4 in d:\\anac\\lib\\site-packages (from instabot) (3.0.4)\n",
      "Requirement already satisfied: future>=0.18.2 in d:\\anac\\lib\\site-packages (from instabot) (0.18.2)\n",
      "Collecting huepy>=1.2.1 (from instabot)\n",
      "  Downloading https://files.pythonhosted.org/packages/d6/4e/2dae447d8858a31158ca6c313f5d1902bc83b8542bb5f10c0307de2973bc/huepy-1.2.1.tar.gz\n",
      "Collecting idna>=2.8 (from instabot)\n",
      "  Downloading https://files.pythonhosted.org/packages/04/a2/d918dcd22354d8958fe113e1a3630137e0fc8b44859ade3063982eacd2a4/idna-3.3-py3-none-any.whl (61kB)\n",
      "Requirement already satisfied: pysocks>=1.7.1 in d:\\anac\\lib\\site-packages (from instabot) (1.7.1)\n",
      "Requirement already satisfied: pytz>=2019.3 in d:\\anac\\lib\\site-packages (from instabot) (2019.3)\n",
      "Collecting requests>=2.22.0 (from instabot)\n",
      "  Downloading https://files.pythonhosted.org/packages/2d/61/08076519c80041bc0ffa1a8af0cbd3bf3e2b62af10435d269a9d0f40564d/requests-2.27.1-py2.py3-none-any.whl (63kB)\n",
      "Collecting requests-toolbelt>=0.9.1 (from instabot)\n",
      "  Downloading https://files.pythonhosted.org/packages/60/ef/7681134338fc097acef8d9b2f8abe0458e4d87559c689a8c306d0957ece5/requests_toolbelt-0.9.1-py2.py3-none-any.whl (54kB)\n",
      "Collecting responses>=0.10.9 (from instabot)\n",
      "  Downloading https://files.pythonhosted.org/packages/79/f3/2b3a6dc5986303b3dd1bbbcf482022acb2583c428cd23f0b6d37b1a1a519/responses-0.18.0-py3-none-any.whl\n",
      "Collecting schedule>=0.6.0 (from instabot)\n",
      "  Downloading https://files.pythonhosted.org/packages/eb/3b/040bd180eaef427dd160562ee66adc9f4f67088185c272edcdb899c609c7/schedule-1.1.0-py2.py3-none-any.whl\n",
      "Requirement already satisfied: six>=1.14.0 in d:\\anac\\lib\\site-packages (from instabot) (1.15.0)\n",
      "Collecting tqdm>=4.41.1 (from instabot)\n",
      "  Downloading https://files.pythonhosted.org/packages/63/f3/b7a1b8e40fd1bd049a34566eb353527bb9b8e9b98f8b6cf803bb64d8ce95/tqdm-4.62.3-py2.py3-none-any.whl (76kB)\n",
      "Collecting urllib3>=1.25.7 (from instabot)\n",
      "  Downloading https://files.pythonhosted.org/packages/4e/b8/f5a25b22e803f0578e668daa33ba3701bb37858ec80e08a150bd7d2cf1b1/urllib3-1.26.8-py2.py3-none-any.whl (138kB)\n",
      "Requirement already satisfied: mock>=3.0.5 in d:\\anac\\lib\\site-packages (from instabot) (3.0.5)\n",
      "Collecting moviepy>=1.0.1 (from instabot)\n",
      "  Downloading https://files.pythonhosted.org/packages/18/54/01a8c4e35c75ca9724d19a7e4de9dc23f0ceb8769102c7de056113af61c3/moviepy-1.0.3.tar.gz (388kB)\n",
      "Collecting Pillow>=6.2.2 (from instabot)\n",
      "  Downloading https://files.pythonhosted.org/packages/c5/3c/449f44f725dbf298c0bdd5a08c909f1af15567a84e1ab1b081ad68f1c731/Pillow-9.0.1-cp37-cp37m-win_amd64.whl (3.2MB)\n",
      "Requirement already satisfied: pytest>=4.6.9 in d:\\anac\\lib\\site-packages (from instabot) (5.2.1)\n",
      "Collecting charset-normalizer~=2.0.0; python_version >= \"3\" (from requests>=2.22.0->instabot)\n",
      "  Downloading https://files.pythonhosted.org/packages/06/b3/24afc8868eba069a7f03650ac750a778862dc34941a4bebeb58706715726/charset_normalizer-2.0.12-py3-none-any.whl\n",
      "Requirement already satisfied: colorama; platform_system == \"Windows\" in d:\\anac\\lib\\site-packages (from tqdm>=4.41.1->instabot) (0.4.1)\n",
      "Requirement already satisfied: decorator<5.0,>=4.0.2 in d:\\anac\\lib\\site-packages (from moviepy>=1.0.1->instabot) (4.4.0)\n",
      "Collecting proglog<=1.0.0 (from moviepy>=1.0.1->instabot)\n",
      "  Downloading https://files.pythonhosted.org/packages/fe/ab/4cb19b578e1364c0b2d6efd6521a8b4b4e5c4ae6528041d31a2a951dd991/proglog-0.1.9.tar.gz\n",
      "Collecting numpy>=1.17.3 (from moviepy>=1.0.1->instabot)\n",
      "  Downloading https://files.pythonhosted.org/packages/22/a3/3a5469ebaca59100e50b4300dd011eed943f2aad7c6a80a07966b985e2c6/numpy-1.21.5-cp37-cp37m-win_amd64.whl (14.0MB)\n",
      "Requirement already satisfied: imageio<3.0,>=2.5 in d:\\anac\\lib\\site-packages (from moviepy>=1.0.1->instabot) (2.6.0)\n",
      "Collecting imageio_ffmpeg>=0.2.0 (from moviepy>=1.0.1->instabot)\n",
      "  Downloading https://files.pythonhosted.org/packages/34/79/df3c675b27b08fc9fd83564c89ba69a413d5ef928584bccde805d1fb987a/imageio_ffmpeg-0.4.5-py3-none-win_amd64.whl (22.6MB)\n",
      "Requirement already satisfied: py>=1.5.0 in d:\\anac\\lib\\site-packages (from pytest>=4.6.9->instabot) (1.8.0)\n",
      "Requirement already satisfied: packaging in d:\\anac\\lib\\site-packages (from pytest>=4.6.9->instabot) (19.2)\n",
      "Requirement already satisfied: attrs>=17.4.0 in d:\\anac\\lib\\site-packages (from pytest>=4.6.9->instabot) (19.2.0)\n",
      "Requirement already satisfied: more-itertools>=4.0.0 in d:\\anac\\lib\\site-packages (from pytest>=4.6.9->instabot) (7.2.0)\n",
      "Requirement already satisfied: atomicwrites>=1.0 in d:\\anac\\lib\\site-packages (from pytest>=4.6.9->instabot) (1.3.0)\n",
      "Requirement already satisfied: pluggy<1.0,>=0.12 in d:\\anac\\lib\\site-packages (from pytest>=4.6.9->instabot) (0.13.0)\n",
      "Requirement already satisfied: wcwidth in d:\\anac\\lib\\site-packages (from pytest>=4.6.9->instabot) (0.1.7)\n",
      "Requirement already satisfied: importlib-metadata>=0.12 in d:\\anac\\lib\\site-packages (from pytest>=4.6.9->instabot) (0.23)\n",
      "Requirement already satisfied: pyparsing>=2.0.2 in d:\\anac\\lib\\site-packages (from packaging->pytest>=4.6.9->instabot) (2.4.2)\n",
      "Requirement already satisfied: zipp>=0.5 in d:\\anac\\lib\\site-packages (from importlib-metadata>=0.12->pytest>=4.6.9->instabot) (0.6.0)\n",
      "Building wheels for collected packages: instabot, huepy, moviepy, proglog\n",
      "  Building wheel for instabot (setup.py): started\n",
      "  Building wheel for instabot (setup.py): finished with status 'done'\n",
      "  Created wheel for instabot: filename=instabot-0.117.0-cp37-none-any.whl size=101278 sha256=c63b88729c2d8736f78630e98c998a9035cf0e3608f846dc0daa076c751fc7fa\n",
      "  Stored in directory: C:\\Users\\User 8\\AppData\\Local\\pip\\Cache\\wheels\\68\\21\\de\\ed261a8f062db5eed5488a7e960b4d23367ee26692e61ef1b7\n",
      "  Building wheel for huepy (setup.py): started\n",
      "  Building wheel for huepy (setup.py): finished with status 'done'\n",
      "  Created wheel for huepy: filename=huepy-1.2.1-cp37-none-any.whl size=26995 sha256=8c90535bf9a7be27703a070d9f2d25e3a947e298503514c6b4180b909d9de250\n",
      "  Stored in directory: C:\\Users\\User 8\\AppData\\Local\\pip\\Cache\\wheels\\ee\\32\\30\\4b6301e3419c7de811997aaaae20d5efc719ee1d4cddf592f7\n",
      "  Building wheel for moviepy (setup.py): started\n",
      "  Building wheel for moviepy (setup.py): finished with status 'done'\n",
      "  Created wheel for moviepy: filename=moviepy-1.0.3-cp37-none-any.whl size=110728 sha256=946113663fd3aaa46f307f3565a47d7930d52dcf7a044b78b6ea09fc70e9f903\n",
      "  Stored in directory: C:\\Users\\User 8\\AppData\\Local\\pip\\Cache\\wheels\\e0\\fe\\1c\\f4e6dca9e828d4b979c04e461d7fcc5b8e7bd35f947e665b65\n",
      "  Building wheel for proglog (setup.py): started\n",
      "  Building wheel for proglog (setup.py): finished with status 'done'\n",
      "  Created wheel for proglog: filename=proglog-0.1.9-cp37-none-any.whl size=6148 sha256=3f533671e67788b78e7b0ded46846a54a2e14ef6ca40cef16c61772bf9fcf66b\n",
      "  Stored in directory: C:\\Users\\User 8\\AppData\\Local\\pip\\Cache\\wheels\\65\\56\\60\\1d0306a8d90b188af393c1812ddb502a8821b70917f82dcc00\n",
      "Successfully built instabot huepy moviepy proglog\n",
      "Installing collected packages: certifi, huepy, idna, urllib3, charset-normalizer, requests, requests-toolbelt, responses, schedule, tqdm, proglog, numpy, imageio-ffmpeg, moviepy, Pillow, instabot\n",
      "  Found existing installation: certifi 2019.9.11\n",
      "    Uninstalling certifi-2019.9.11:\n",
      "      Successfully uninstalled certifi-2019.9.11\n",
      "  Found existing installation: idna 2.6\n",
      "    Uninstalling idna-2.6:\n",
      "      Successfully uninstalled idna-2.6\n",
      "  Found existing installation: urllib3 1.22\n",
      "    Uninstalling urllib3-1.22:\n",
      "      Successfully uninstalled urllib3-1.22\n",
      "  Found existing installation: requests 2.18.4\n",
      "    Uninstalling requests-2.18.4:\n",
      "      Successfully uninstalled requests-2.18.4\n",
      "  Found existing installation: tqdm 4.36.1\n",
      "    Uninstalling tqdm-4.36.1:\n",
      "      Successfully uninstalled tqdm-4.36.1\n",
      "  Found existing installation: numpy 1.16.6\n",
      "    Uninstalling numpy-1.16.6:\n",
      "      Successfully uninstalled numpy-1.16.6\n",
      "  Found existing installation: Pillow 6.2.0\n",
      "    Uninstalling Pillow-6.2.0:\n",
      "      Successfully uninstalled Pillow-6.2.0\n",
      "Successfully installed Pillow-9.0.1 certifi-2021.10.8 charset-normalizer-2.0.12 huepy-1.2.1 idna-3.3 imageio-ffmpeg-0.4.5 instabot-0.117.0 moviepy-1.0.3 numpy-1.21.5 proglog-0.1.9 requests-2.27.1 requests-toolbelt-0.9.1 responses-0.18.0 schedule-1.1.0 tqdm-4.62.3 urllib3-1.26.8\n",
      "Note: you may need to restart the kernel to use updated packages.\n"
     ]
    },
    {
     "name": "stderr",
     "output_type": "stream",
     "text": [
      "ERROR: conda 4.10.3 requires ruamel_yaml_conda>=0.11.14, which is not installed.\n",
      "ERROR: tensorflow 2.4.1 has requirement numpy~=1.19.2, but you'll have numpy 1.21.5 which is incompatible.\n"
     ]
    }
   ],
   "source": [
    "pip install instabot"
   ]
  },
  {
   "cell_type": "code",
   "execution_count": 1,
   "metadata": {},
   "outputs": [],
   "source": [
    "from instabot import Bot\n"
   ]
  },
  {
   "cell_type": "code",
   "execution_count": null,
   "metadata": {},
   "outputs": [],
   "source": [
    "bot.upload_photo(\"C:/Users/User 8/Downloads/Telegram Desktop/image_2022-02-19_10-45-18.png\",\n",
    "                 caption =\"Timeline Chart\")"
   ]
  },
  {
   "cell_type": "code",
   "execution_count": 2,
   "metadata": {},
   "outputs": [
    {
     "name": "stderr",
     "output_type": "stream",
     "text": [
      "2022-02-27 11:47:39,529 - INFO - Instabot version: 0.117.0 Started\n",
      "2022-02-27 11:47:39,534 - INFO - Not yet logged in starting: PRE-LOGIN FLOW!\n",
      "2022-02-27 11:47:40,372 - ERROR - Request returns 429 error!\n",
      "2022-02-27 11:47:40,377 - WARNING - That means 'too many requests'. I'll go to sleep for 5 minutes.\n",
      "2022-02-27 11:52:41,207 - ERROR - Request returns 429 error!\n",
      "2022-02-27 11:52:41,215 - WARNING - That means 'too many requests'. I'll go to sleep for 10 minutes.\n",
      "2022-02-27 12:02:41,805 - ERROR - Request returns 429 error!\n",
      "2022-02-27 12:02:41,808 - WARNING - That means 'too many requests'. I'll go to sleep for 15 minutes.\n",
      "2022-02-27 12:26:16,737 - ERROR - Request returns 429 error!\n",
      "2022-02-27 12:26:17,755 - ERROR - Since we hit 15 minutes of time outs, we have to restart. Removing session and cookies. Please relogin.\n"
     ]
    },
    {
     "ename": "SystemExit",
     "evalue": "",
     "output_type": "error",
     "traceback": [
      "An exception has occurred, use %tb to see the full traceback.\n",
      "\u001b[1;31mSystemExit\u001b[0m\n"
     ]
    },
    {
     "name": "stderr",
     "output_type": "stream",
     "text": [
      "D:\\anac\\lib\\site-packages\\IPython\\core\\interactiveshell.py:3334: UserWarning: To exit: use 'exit', 'quit', or Ctrl-D.\n",
      "  warn(\"To exit: use 'exit', 'quit', or Ctrl-D.\", stacklevel=1)\n"
     ]
    }
   ],
   "source": [
    "bot = Bot()\n",
    "\n",
    "bot.login(username = \"8075666796\",\n",
    "          password = \"babbaz\")"
   ]
  }
 ],
 "metadata": {
  "kernelspec": {
   "display_name": "Python 3",
   "language": "python",
   "name": "python3"
  },
  "language_info": {
   "codemirror_mode": {
    "name": "ipython",
    "version": 3
   },
   "file_extension": ".py",
   "mimetype": "text/x-python",
   "name": "python",
   "nbconvert_exporter": "python",
   "pygments_lexer": "ipython3",
   "version": "3.7.4"
  }
 },
 "nbformat": 4,
 "nbformat_minor": 2
}
